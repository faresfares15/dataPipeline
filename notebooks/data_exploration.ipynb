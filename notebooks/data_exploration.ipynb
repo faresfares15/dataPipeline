{
  "cells": [
    {
      "cell_type": "code",
      "execution_count": null,
      "metadata": {
        "vscode": {
          "languageId": "plaintext"
        }
      },
      "outputs": [],
      "source": [
        "# 🎬 Cinema Data Pipeline - Exploration Notebook\n",
        "\n",
        "This notebook allows you to explore the cinema data pipeline components and test functionality before running the full Airflow DAG.\n"
      ]
    },
    {
      "cell_type": "code",
      "execution_count": null,
      "metadata": {},
      "outputs": [],
      "source": [
        "# Import required libraries\n",
        "import sys\n",
        "import os\n",
        "sys.path.append('..')\n",
        "\n",
        "import pandas as pd\n",
        "import pyarrow.parquet as pq\n",
        "from lib.ingestion import DataIngestion\n",
        "from lib.formatting import DataFormatter\n",
        "from lib.combination import DataCombiner\n",
        "from lib.indexing import DataIndexer\n",
        "from config import get_data_path, IMDB_DATASETS, OMDB_API_KEY\n"
      ]
    }
  ],
  "metadata": {
    "language_info": {
      "name": "python"
    }
  },
  "nbformat": 4,
  "nbformat_minor": 2
}
